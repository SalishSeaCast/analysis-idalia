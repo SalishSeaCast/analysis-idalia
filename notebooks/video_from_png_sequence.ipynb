{
 "cells": [
  {
   "cell_type": "code",
   "execution_count": 95,
   "metadata": {
    "collapsed": true
   },
   "outputs": [],
   "source": [
    "import os"
   ]
  },
  {
   "cell_type": "markdown",
   "metadata": {},
   "source": [
    "https://en.wikibooks.org/wiki/FFMPEG_An_Intermediate_Guide/image_sequence\n",
    "\n",
    "http://openwritings.net/sites/default/files/Tutorial_FFMPEG.pdf"
   ]
  },
  {
   "cell_type": "code",
   "execution_count": 96,
   "metadata": {
    "collapsed": false
   },
   "outputs": [
    {
     "name": "stdout",
     "output_type": "stream",
     "text": [
      "ffmpeg version 2.4.3-1ubuntu1~trusty6 Copyright (c) 2000-2014 the FFmpeg developers\r\n",
      "  built on Nov 22 2014 17:07:19 with gcc 4.8 (Ubuntu 4.8.2-19ubuntu1)\r\n",
      "  configuration: --prefix=/usr --extra-version='1ubuntu1~trusty6' --build-suffix=-ffmpeg --toolchain=hardened --extra-cflags= --extra-cxxflags= --libdir=/usr/lib/x86_64-linux-gnu --shlibdir=/usr/lib/x86_64-linux-gnu --incdir=/usr/include/x86_64-linux-gnu --enable-gpl --enable-shared --disable-stripping --enable-avresample --enable-avisynth --enable-fontconfig --enable-gnutls --enable-ladspa --enable-libass --enable-libbluray --enable-libbs2b --enable-libcaca --enable-libcdio --enable-libflite --enable-libfreetype --enable-libfribidi --enable-libgme --enable-libgsm --enable-libmodplug --enable-libmp3lame --enable-libopenjpeg --enable-libopus --enable-libpulse --enable-librtmp --enable-libschroedinger --enable-libshine --enable-libspeex --enable-libssh --enable-libtheora --enable-libtwolame --enable-libvorbis --enable-libvpx --enable-libwavpack --enable-libwebp --enable-opengl --enable-x11grab --enable-libxvid --enable-libx265 --enable-libdc1394 --enable-libiec61883 --enable-libzvbi --enable-libzmq --enable-frei0r --enable-libx264 --enable-libsoxr --enable-openal --enable-libopencv\r\n",
      "  libavutil      54.  7.100 / 54.  7.100\r\n",
      "  libavcodec     56.  1.100 / 56.  1.100\r\n",
      "  libavformat    56.  4.101 / 56.  4.101\r\n",
      "  libavdevice    56.  0.100 / 56.  0.100\r\n",
      "  libavfilter     5.  1.100 /  5.  1.100\r\n",
      "  libavresample   2.  1.  0 /  2.  1.  0\r\n",
      "  libswscale      3.  0.100 /  3.  0.100\r\n",
      "  libswresample   1.  1.100 /  1.  1.100\r\n",
      "  libpostproc    53.  0.100 / 53.  0.100\r\n",
      "Hyper fast Audio and Video encoder\r\n",
      "usage: ffmpeg [options] [[infile options] -i infile]... {[outfile options] outfile}...\r\n",
      "\r\n",
      "\u001b[0;33mUse -h to get full help or, even better, run 'man ffmpeg'\r\n",
      "\u001b[0m"
     ]
    }
   ],
   "source": [
    "!ffmpeg"
   ]
  },
  {
   "cell_type": "code",
   "execution_count": 97,
   "metadata": {
    "collapsed": false
   },
   "outputs": [
    {
     "name": "stdout",
     "output_type": "stream",
     "text": [
      "/results/nowcast-sys/figures/nowcast-green/20nov17/salinity_thalweg_and_surface_20171120_003000_UTC.png\r\n",
      "/results/nowcast-sys/figures/nowcast-green/20nov17/salinity_thalweg_and_surface_20171120_013000_UTC.png\r\n",
      "/results/nowcast-sys/figures/nowcast-green/20nov17/salinity_thalweg_and_surface_20171120_023000_UTC.png\r\n",
      "/results/nowcast-sys/figures/nowcast-green/20nov17/salinity_thalweg_and_surface_20171120_033000_UTC.png\r\n",
      "/results/nowcast-sys/figures/nowcast-green/20nov17/salinity_thalweg_and_surface_20171120_043000_UTC.png\r\n",
      "/results/nowcast-sys/figures/nowcast-green/20nov17/salinity_thalweg_and_surface_20171120_053000_UTC.png\r\n",
      "/results/nowcast-sys/figures/nowcast-green/20nov17/salinity_thalweg_and_surface_20171120_063000_UTC.png\r\n",
      "/results/nowcast-sys/figures/nowcast-green/20nov17/salinity_thalweg_and_surface_20171120_073000_UTC.png\r\n",
      "/results/nowcast-sys/figures/nowcast-green/20nov17/salinity_thalweg_and_surface_20171120_083000_UTC.png\r\n",
      "/results/nowcast-sys/figures/nowcast-green/20nov17/salinity_thalweg_and_surface_20171120_093000_UTC.png\r\n",
      "/results/nowcast-sys/figures/nowcast-green/20nov17/salinity_thalweg_and_surface_20171120_103000_UTC.png\r\n",
      "/results/nowcast-sys/figures/nowcast-green/20nov17/salinity_thalweg_and_surface_20171120_113000_UTC.png\r\n",
      "/results/nowcast-sys/figures/nowcast-green/20nov17/salinity_thalweg_and_surface_20171120_123000_UTC.png\r\n",
      "/results/nowcast-sys/figures/nowcast-green/20nov17/salinity_thalweg_and_surface_20171120_133000_UTC.png\r\n",
      "/results/nowcast-sys/figures/nowcast-green/20nov17/salinity_thalweg_and_surface_20171120_143000_UTC.png\r\n",
      "/results/nowcast-sys/figures/nowcast-green/20nov17/salinity_thalweg_and_surface_20171120_153000_UTC.png\r\n",
      "/results/nowcast-sys/figures/nowcast-green/20nov17/salinity_thalweg_and_surface_20171120_163000_UTC.png\r\n",
      "/results/nowcast-sys/figures/nowcast-green/20nov17/salinity_thalweg_and_surface_20171120_173000_UTC.png\r\n",
      "/results/nowcast-sys/figures/nowcast-green/20nov17/salinity_thalweg_and_surface_20171120_183000_UTC.png\r\n",
      "/results/nowcast-sys/figures/nowcast-green/20nov17/salinity_thalweg_and_surface_20171120_193000_UTC.png\r\n",
      "/results/nowcast-sys/figures/nowcast-green/20nov17/salinity_thalweg_and_surface_20171120_203000_UTC.png\r\n",
      "/results/nowcast-sys/figures/nowcast-green/20nov17/salinity_thalweg_and_surface_20171120_213000_UTC.png\r\n",
      "/results/nowcast-sys/figures/nowcast-green/20nov17/salinity_thalweg_and_surface_20171120_223000_UTC.png\r\n",
      "/results/nowcast-sys/figures/nowcast-green/20nov17/salinity_thalweg_and_surface_20171120_233000_UTC.png\r\n"
     ]
    }
   ],
   "source": [
    "! ls /results/nowcast-sys/figures/nowcast-green/20nov17/sal*"
   ]
  },
  {
   "cell_type": "code",
   "execution_count": 98,
   "metadata": {
    "collapsed": false
   },
   "outputs": [
    {
     "name": "stdout",
     "output_type": "stream",
     "text": [
      "/results/nowcast-sys/figures/nowcast-green/20nov17/diatoms_thalweg_and_surface_20171120_003000_UTC.png\r\n",
      "/results/nowcast-sys/figures/nowcast-green/20nov17/diatoms_thalweg_and_surface_20171120_013000_UTC.png\r\n",
      "/results/nowcast-sys/figures/nowcast-green/20nov17/diatoms_thalweg_and_surface_20171120_023000_UTC.png\r\n",
      "/results/nowcast-sys/figures/nowcast-green/20nov17/diatoms_thalweg_and_surface_20171120_033000_UTC.png\r\n",
      "/results/nowcast-sys/figures/nowcast-green/20nov17/diatoms_thalweg_and_surface_20171120_043000_UTC.png\r\n",
      "/results/nowcast-sys/figures/nowcast-green/20nov17/diatoms_thalweg_and_surface_20171120_053000_UTC.png\r\n",
      "/results/nowcast-sys/figures/nowcast-green/20nov17/diatoms_thalweg_and_surface_20171120_063000_UTC.png\r\n",
      "/results/nowcast-sys/figures/nowcast-green/20nov17/diatoms_thalweg_and_surface_20171120_073000_UTC.png\r\n",
      "/results/nowcast-sys/figures/nowcast-green/20nov17/diatoms_thalweg_and_surface_20171120_083000_UTC.png\r\n",
      "/results/nowcast-sys/figures/nowcast-green/20nov17/diatoms_thalweg_and_surface_20171120_093000_UTC.png\r\n",
      "/results/nowcast-sys/figures/nowcast-green/20nov17/diatoms_thalweg_and_surface_20171120_103000_UTC.png\r\n",
      "/results/nowcast-sys/figures/nowcast-green/20nov17/diatoms_thalweg_and_surface_20171120_113000_UTC.png\r\n",
      "/results/nowcast-sys/figures/nowcast-green/20nov17/diatoms_thalweg_and_surface_20171120_123000_UTC.png\r\n",
      "/results/nowcast-sys/figures/nowcast-green/20nov17/diatoms_thalweg_and_surface_20171120_133000_UTC.png\r\n",
      "/results/nowcast-sys/figures/nowcast-green/20nov17/diatoms_thalweg_and_surface_20171120_143000_UTC.png\r\n",
      "/results/nowcast-sys/figures/nowcast-green/20nov17/diatoms_thalweg_and_surface_20171120_153000_UTC.png\r\n",
      "/results/nowcast-sys/figures/nowcast-green/20nov17/diatoms_thalweg_and_surface_20171120_163000_UTC.png\r\n",
      "/results/nowcast-sys/figures/nowcast-green/20nov17/diatoms_thalweg_and_surface_20171120_173000_UTC.png\r\n",
      "/results/nowcast-sys/figures/nowcast-green/20nov17/diatoms_thalweg_and_surface_20171120_183000_UTC.png\r\n",
      "/results/nowcast-sys/figures/nowcast-green/20nov17/diatoms_thalweg_and_surface_20171120_193000_UTC.png\r\n",
      "/results/nowcast-sys/figures/nowcast-green/20nov17/diatoms_thalweg_and_surface_20171120_203000_UTC.png\r\n",
      "/results/nowcast-sys/figures/nowcast-green/20nov17/diatoms_thalweg_and_surface_20171120_213000_UTC.png\r\n",
      "/results/nowcast-sys/figures/nowcast-green/20nov17/diatoms_thalweg_and_surface_20171120_223000_UTC.png\r\n",
      "/results/nowcast-sys/figures/nowcast-green/20nov17/diatoms_thalweg_and_surface_20171120_233000_UTC.png\r\n"
     ]
    }
   ],
   "source": [
    "! ls /results/nowcast-sys/figures/nowcast-green/20nov17/dia*"
   ]
  },
  {
   "cell_type": "code",
   "execution_count": 99,
   "metadata": {
    "collapsed": false
   },
   "outputs": [],
   "source": [
    "! ls video_from_png/"
   ]
  },
  {
   "cell_type": "markdown",
   "metadata": {},
   "source": [
    "* -r frame rate, higher is faster and fractions make videos that actually pause at each frame\n",
    "* -vcodec ffmpeg will default to MPEG-1, this definitely helps quality\n",
    "* -vb is supposed to help quality too by increasing bitrate\n",
    "* -b bitrate but it didn't work \n",
    "* -i and -y are input and output\n",
    "* firefox doesn't support watching the video"
   ]
  },
  {
   "cell_type": "code",
   "execution_count": 132,
   "metadata": {
    "collapsed": false
   },
   "outputs": [
    {
     "data": {
      "text/plain": [
       "0"
      ]
     },
     "execution_count": 132,
     "metadata": {},
     "output_type": "execute_result"
    }
   ],
   "source": [
    "os.system(\"ffmpeg -f image2 -r 2 -vb 200M \\\n",
    "          -i /results/nowcast-sys/figures/nowcast-green/20nov17/salinity_thalweg_and_surface_20171120_%02d3000_UTC.png \\\n",
    "          -vcodec libx264 -y ./video_from_png/video_salinity.mp4\")"
   ]
  },
  {
   "cell_type": "code",
   "execution_count": 129,
   "metadata": {
    "collapsed": false
   },
   "outputs": [
    {
     "data": {
      "text/plain": [
       "0"
      ]
     },
     "execution_count": 129,
     "metadata": {},
     "output_type": "execute_result"
    }
   ],
   "source": [
    "os.system(\"ffmpeg -f image2 -r 2 -vb 200M \\\n",
    "          -i /results/nowcast-sys/figures/nowcast-green/20nov17/diatoms_thalweg_and_surface_20171120_%02d3000_UTC.png \\\n",
    "          -vcodec libx264 -y ./video_from_png/video_diatoms.mp4\")"
   ]
  },
  {
   "cell_type": "code",
   "execution_count": 130,
   "metadata": {
    "collapsed": false
   },
   "outputs": [
    {
     "name": "stdout",
     "output_type": "stream",
     "text": [
      "-rw-rw-r-- 1 imachuca imachuca 481443 Nov 21 17:12 ./video_from_png/video_diatoms.mp4\r\n",
      "-rw-rw-r-- 1 imachuca imachuca 371261 Nov 21 17:12 ./video_from_png/video_salinity.mp4\r\n"
     ]
    }
   ],
   "source": [
    "!ls -l ./video_from_png/video*"
   ]
  },
  {
   "cell_type": "code",
   "execution_count": 105,
   "metadata": {
    "collapsed": false
   },
   "outputs": [
    {
     "name": "stdout",
     "output_type": "stream",
     "text": [
      "/ocean/imachuca/analysis-idalia/notebooks\r\n"
     ]
    }
   ],
   "source": [
    "!pwd"
   ]
  },
  {
   "cell_type": "code",
   "execution_count": 103,
   "metadata": {
    "collapsed": true
   },
   "outputs": [],
   "source": [
    "from IPython.display import HTML"
   ]
  },
  {
   "cell_type": "code",
   "execution_count": 104,
   "metadata": {
    "collapsed": false
   },
   "outputs": [
    {
     "data": {
      "text/html": [
       "<video width=\"320\" height=\"240\" controls>\n",
       "  <source src=\"./video_from_png/video_salinity.mp4\" type=\"video/mp4\">\n",
       "</video>"
      ],
      "text/plain": [
       "<IPython.core.display.HTML object>"
      ]
     },
     "metadata": {},
     "output_type": "display_data"
    }
   ],
   "source": [
    "%%HTML\n",
    "<video width=\"320\" height=\"240\" controls>\n",
    "  <source src=\"./video_from_png/video_salinity.mp4\" type=\"video/mp4\">\n",
    "</video>"
   ]
  }
 ],
 "metadata": {
  "kernelspec": {
   "display_name": "Python 3",
   "language": "python",
   "name": "python3"
  },
  "language_info": {
   "codemirror_mode": {
    "name": "ipython",
    "version": 3
   },
   "file_extension": ".py",
   "mimetype": "text/x-python",
   "name": "python",
   "nbconvert_exporter": "python",
   "pygments_lexer": "ipython3",
   "version": "3.5.0rc4"
  }
 },
 "nbformat": 4,
 "nbformat_minor": 0
}
